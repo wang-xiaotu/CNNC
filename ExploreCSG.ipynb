{
  "nbformat": 4,
  "nbformat_minor": 0,
  "metadata": {
    "colab": {
      "name": "ExploreCSG.ipynb",
      "provenance": [],
      "collapsed_sections": [],
      "authorship_tag": "ABX9TyPgTyLJC7jt75/3njcYa8dn",
      "include_colab_link": true
    },
    "kernelspec": {
      "name": "python3",
      "display_name": "Python 3"
    }
  },
  "cells": [
    {
      "cell_type": "markdown",
      "metadata": {
        "id": "view-in-github",
        "colab_type": "text"
      },
      "source": [
        "<a href=\"https://colab.research.google.com/github/wang-xiaotu/CNNC/blob/master/ExploreCSG.ipynb\" target=\"_parent\"><img src=\"https://colab.research.google.com/assets/colab-badge.svg\" alt=\"Open In Colab\"/></a>"
      ]
    },
    {
      "cell_type": "code",
      "metadata": {
        "id": "GHgE-xJ_kT42"
      },
      "source": [
        "import pandas as pd\n",
        "import numpy as np\n",
        "import json\n",
        "import requests\n",
        "import datetime"
      ],
      "execution_count": null,
      "outputs": []
    },
    {
      "cell_type": "markdown",
      "metadata": {
        "id": "YXWl87hanapa"
      },
      "source": [
        ""
      ]
    },
    {
      "cell_type": "markdown",
      "metadata": {
        "id": "gy6NakvpeKZb"
      },
      "source": [
        "### Top 500 Benchmark\n"
      ]
    },
    {
      "cell_type": "code",
      "metadata": {
        "id": "3jFZspTpKcK6"
      },
      "source": [
        "import pandas as pd # allows us to access pandas using 'pd'\n",
        "import requests as re # same idea"
      ],
      "execution_count": null,
      "outputs": []
    },
    {
      "cell_type": "code",
      "metadata": {
        "id": "-K4holxBKhNr"
      },
      "source": [
        "# we set a variable url to be a string that contains data we would like to process\n",
        "url = 'https://csgenome.org/api/benchmarks/top500?page=1&limit=1000' # grab the first 1000 top500 benchmarks using limit=1000\n"
      ],
      "execution_count": null,
      "outputs": []
    },
    {
      "cell_type": "code",
      "metadata": {
        "colab": {
          "base_uri": "https://localhost:8080/"
        },
        "id": "s2HFb16dKjbF",
        "outputId": "3f835120-4844-40d2-a83f-55603021aa78"
      },
      "source": [
        "# make a request to the api and get a response\n",
        "response = re.get(url)\n",
        "\n",
        "# grab information listed under data in the JSON response\n",
        "my_json = response.json()['data']\n",
        "\n",
        "# convert to pandas DataFrame\n",
        "top_500 = pd.json_normalize(my_json) \n",
        "\n",
        "# print pandas DataFrame\n",
        "print(top_500)"
      ],
      "execution_count": null,
      "outputs": [
        {
          "output_type": "stream",
          "text": [
            "    benchmark_type  hpcg  ... system.system_model system.uid\n",
            "0           top500  None  ...          BlueGene/Q          1\n",
            "1           top500  None  ...          K computer          2\n",
            "2           top500  None  ...          BlueGene/Q          3\n",
            "3           top500  None  ...   iDataPlex DX360M4          4\n",
            "4           top500  None  ...         NUDT YH MPP          5\n",
            "..             ...   ...  ...                 ...        ...\n",
            "995         top500  None  ...                None        824\n",
            "996         top500  None  ...                None        825\n",
            "997         top500  None  ...                None        826\n",
            "998         top500  None  ...                None        827\n",
            "999         top500  None  ...                None        827\n",
            "\n",
            "[1000 rows x 35 columns]\n"
          ],
          "name": "stdout"
        }
      ]
    }
  ]
}